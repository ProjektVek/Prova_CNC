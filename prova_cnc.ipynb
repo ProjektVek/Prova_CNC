{
  "nbformat": 4,
  "nbformat_minor": 0,
  "metadata": {
    "colab": {
      "provenance": [],
      "mount_file_id": "1x24W1txg-26jfPwHcZYqCg8jtk61PUe7",
      "authorship_tag": "ABX9TyN1qL9e61SzrmHpF3eQLPYE",
      "include_colab_link": true
    },
    "kernelspec": {
      "name": "python3",
      "display_name": "Python 3"
    },
    "language_info": {
      "name": "python"
    }
  },
  "cells": [
    {
      "cell_type": "markdown",
      "metadata": {
        "id": "view-in-github",
        "colab_type": "text"
      },
      "source": [
        "<a href=\"https://colab.research.google.com/github/ProjektVek/Prova_CNC/blob/main/prova_cnc.ipynb\" target=\"_parent\"><img src=\"https://colab.research.google.com/assets/colab-badge.svg\" alt=\"Open In Colab\"/></a>"
      ]
    },
    {
      "cell_type": "markdown",
      "source": [
        "Importando or-tools para resolução de equação lineares:"
      ],
      "metadata": {
        "id": "jlem8S7GTNEl"
      }
    },
    {
      "cell_type": "code",
      "execution_count": null,
      "metadata": {
        "id": "p5T6zCBj5JUS"
      },
      "outputs": [],
      "source": [
        "!pip install ortools\n",
        "from ortools.linear_solver import pywraplp"
      ]
    },
    {
      "cell_type": "markdown",
      "source": [
        "Criação do Resolvedor:"
      ],
      "metadata": {
        "id": "QZIMYz1YT-X0"
      }
    },
    {
      "cell_type": "code",
      "source": [
        "solver = pywraplp.Solver.CreateSolver(\"GLOP\")"
      ],
      "metadata": {
        "id": "XIzOV4I6UDfT"
      },
      "execution_count": 2,
      "outputs": []
    },
    {
      "cell_type": "markdown",
      "source": [
        "Importando e lendo CSV:"
      ],
      "metadata": {
        "id": "T8Re-PpOjT26"
      }
    },
    {
      "cell_type": "code",
      "source": [
        "import csv\n",
        "\n",
        "folder = \"drive/MyDrive/UNIP/prova-cnc/\"\n",
        "data_file = folder + \"data.csv\"\n",
        "nutrientes_file = folder + \"nutrientes.csv\"\n",
        "\n",
        "print(\"\\nNutrientes:\")\n",
        "with open(nutrientes_file,'r') as data:\n",
        "   for line in csv.reader(data):\n",
        "            print(line)\n",
        "\n",
        "print(\"\\nDados:\")\n",
        "with open(data_file,'r') as data:\n",
        "   for line in csv.reader(data):\n",
        "            print(line)            "
      ],
      "metadata": {
        "colab": {
          "base_uri": "https://localhost:8080/"
        },
        "id": "1iTsAu3ljckm",
        "outputId": "e048bcad-bedb-454e-dda8-b691c8141237"
      },
      "execution_count": 3,
      "outputs": [
        {
          "output_type": "stream",
          "name": "stdout",
          "text": [
            "\n",
            "Nutrientes:\n",
            "['nome', 'minimo']\n",
            "['Calories (kcal)', '3.0']\n",
            "['Protein (g)', '70.0']\n",
            "['Calcium (g)', '0.8']\n",
            "['Iron (mg)', '12.0']\n",
            "['Vitamin A (KIU)', '5.0']\n",
            "['Vitamin B1 (mg)', '1.8']\n",
            "['Vitamin B2 (mg)', '2.7']\n",
            "['Niacin (mg)', '18.0']\n",
            "['Vitamin C (mg)', '75.0']\n",
            "\n",
            "Dados:\n",
            "['ingrediente', 'quantidade', 'preco', 'Calories (kcal)', 'Protein (g)', 'Calcium (g)', 'Iron (mg)', 'Vitamin A (KIU)', 'Vitamin B1 (mg)', 'Vitamin B2 (mg)', 'Niacin (mg)', 'Vitamin C (mg)']\n",
            "['Wheat Flour (Enriched)', '10 lb.', '36.0', '44.7', '1411', '2.0', '365', '0.0', '55.4', '33.3', '441', '0']\n",
            "['Macaroni', '1 lb.', '14.1', '11.6', '418', '0.7', '54', '0.0', '3.2', '1.9', '68', '0']\n",
            "['Wheat Cereal (Enriched)', '28 oz.', '24.2', '11.8', '377', '14.4', '175', '0.0', '14.4', '8.8', '114', '0']\n",
            "['Corn Flakes', '8 oz.', '7.1', '11.4', '252', '0.1', '56', '0.0', '13.5', '2.3', '68', '0']\n",
            "['Corn Meal', '1 lb.', '4.6', '36.0', '897', '1.7', '99', '30.9', '17.4', '7.9', '106', '0']\n",
            "['Hominy Grits', '24 oz.', '8.5', '28.6', '680', '0.8', '80', '0.0', '10.6', '1.6', '110', '0']\n",
            "['Rice', '1 lb.', '7.5', '21.2', '460', '0.6', '41', '0.0', '2.0', '4.8', '60', '0']\n",
            "['Rolled Oats', '1 lb.', '7.1', '25.3', '907', '5.1', '341', '0.0', '37.1', '8.9', '64', '0']\n",
            "['White Bread (Enriched)', '1 lb.', '7.9', '15.0', '488', '2.5', '115', '0.0', '13.8', '8.5', '126', '0']\n",
            "['Whole Wheat Bread', '1 lb.', '9.1', '12.2', '484', '2.7', '125', '0.0', '13.9', '6.4', '160', '0']\n",
            "['Rye Bread', '1 lb.', '9.1', '12.4', '439', '1.1', '82', '0.0', '9.9', '3.0', '66', '0']\n",
            "['Pound Cake', '1 lb.', '24.8', '8.0', '130', '0.4', '31', '18.9', '2.8', '3.0', '17', '0']\n",
            "['Soda Crackers', '1 lb.', '15.1', '12.5', '288', '0.5', '50', '0.0', '0.0', '0.0', '0', '0']\n",
            "['Milk', '1 qt.', '11.0', '6.1', '310', '10.5', '18', '16.8', '4.0', '16.0', '7', '177']\n",
            "['Evaporated Milk (can)', '14.5 oz.', '6.7', '8.4', '422', '15.1', '9', '26.0', '3.0', '23.5', '11', '60']\n",
            "['Butter', '1 lb.', '30.8', '10.8', '9', '0.2', '3', '44.2', '0.0', '0.2', '2', '0']\n",
            "['Oleomargarine', '1 lb.', '16.1', '20.6', '17', '0.6', '6', '55.8', '0.2', '0.0', '0', '0']\n",
            "['Eggs', '1 doz.', '32.6', '2.9', '238', '1.0', '52', '18.6', '2.8', '6.5', '1', '0']\n",
            "['Cheese (Cheddar)', '1 lb.', '24.2', '7.4', '448', '16.4', '19', '28.1', '0.8', '10.3', '4', '0']\n",
            "['Cream', '1/2 pt.', '14.1', '3.5', '49', '1.7', '3', '16.9', '0.6', '2.5', '0', '17']\n",
            "['Peanut Butter', '1 lb.', '17.9', '15.7', '661', '1.0', '48', '0.0', '9.6', '8.1', '471', '0']\n",
            "['Mayonnaise', '1/2 pt.', '16.7', '8.6', '18', '0.2', '8', '2.7', '0.4', '0.5', '0', '0']\n",
            "['Crisco', '1 lb.', '20.3', '20.1', '0', '0.0', '0', '0.0', '0.0', '0.0', '0', '0']\n",
            "['Lard', '1 lb.', '9.8', '41.7', '0', '0.0', '0', '0.2', '0.0', '0.5', '5', '0']\n",
            "['Sirloin Steak', '1 lb.', '39.6', '2.9', '166', '0.1', '34', '0.2', '2.1', '2.9', '69', '0']\n",
            "['Round Steak', '1 lb.', '36.4', '2.2', '214', '0.1', '32', '0.4', '2.5', '2.4', '87', '0']\n",
            "['Rib Roast', '1 lb.', '29.2', '3.4', '213', '0.1', '33', '0.0', '0.0', '2.0', '0', '0']\n",
            "['Chuck Roast', '1 lb.', '22.6', '3.6', '309', '0.2', '46', '0.4', '1.0', '4.0', '120', '0']\n",
            "['Plate', '1 lb.', '14.6', '8.5', '404', '0.2', '62', '0.0', '0.9', '0.0', '0', '0']\n",
            "['Liver (Beef)', '1 lb.', '26.8', '2.2', '333', '0.2', '139', '169.2', '6.4', '50.8', '316', '525']\n",
            "['Leg of Lamb', '1 lb.', '27.6', '3.1', '245', '0.1', '20', '0.0', '2.8', '3.9', '86', '0']\n",
            "['Lamb Chops (Rib)', '1 lb.', '36.6', '3.3', '140', '0.1', '15', '0.0', '1.7', '2.7', '54', '0']\n",
            "['Pork Chops', '1 lb.', '30.7', '3.5', '196', '0.2', '30', '0.0', '17.4', '2.7', '60', '0']\n",
            "['Pork Loin Roast', '1 lb.', '24.2', '4.4', '249', '0.3', '37', '0.0', '18.2', '3.6', '79', '0']\n",
            "['Bacon', '1 lb.', '25.6', '10.4', '152', '0.2', '23', '0.0', '1.8', '1.8', '71', '0']\n",
            "['Ham, smoked', '1 lb.', '27.4', '6.7', '212', '0.2', '31', '0.0', '9.9', '3.3', '50', '0']\n",
            "['Salt Pork', '1 lb.', '16.0', '18.8', '164', '0.1', '26', '0.0', '1.4', '1.8', '0', '0']\n",
            "['Roasting Chicken', '1 lb.', '30.3', '1.8', '184', '0.1', '30', '0.1', '0.9', '1.8', '68', '46']\n",
            "['Veal Cutlets', '1 lb.', '42.3', '1.7', '156', '0.1', '24', '0.0', '1.4', '2.4', '57', '0']\n",
            "['Salmon, Pink (can)', '16 oz.', '13.0', '5.8', '705', '6.8', '45', '3.5', '1.0', '4.9', '209', '0']\n",
            "['Apples', '1 lb.', '4.4', '5.8', '27', '0.5', '36', '7.3', '3.6', '2.7', '5', '544']\n",
            "['Bananas', '1 lb.', '6.1', '4.9', '60', '0.4', '30', '17.4', '2.5', '3.5', '28', '498']\n",
            "['Lemons', '1 doz.', '26.0', '1.0', '21', '0.5', '14', '0.0', '0.5', '0.0', '4', '952']\n",
            "['Oranges', '1 doz.', '30.9', '2.2', '40', '1.1', '18', '11.1', '3.6', '1.3', '10', '1998']\n",
            "['Green Beans', '1 lb.', '7.1', '2.4', '138', '3.7', '80', '69.0', '4.3', '5.8', '37', '862']\n",
            "['Cabbage', '1 lb.', '3.7', '2.6', '125', '4.0', '36', '7.2', '9.0', '4.5', '26', '5369']\n",
            "['Carrots', '1 bunch', '4.7', '2.7', '73', '2.8', '43', '188.5', '6.1', '4.3', '89', '608']\n",
            "['Celery', '1 stalk', '7.3', '0.9', '51', '3.0', '23', '0.9', '1.4', '1.4', '9', '313']\n",
            "['Lettuce', '1 head', '8.2', '0.4', '27', '1.1', '22', '112.4', '1.8', '3.4', '11', '449']\n",
            "['Onions', '1 lb.', '3.6', '5.8', '166', '3.8', '59', '16.6', '4.7', '5.9', '21', '1184']\n",
            "['Potatoes', '15 lb.', '34.0', '14.3', '336', '1.8', '118', '6.7', '29.4', '7.1', '198', '2522']\n",
            "['Spinach', '1 lb.', '8.1', '1.1', '106', '0.0', '138', '918.4', '5.7', '13.8', '33', '2755']\n",
            "['Sweet Potatoes', '1 lb.', '5.1', '9.6', '138', '2.7', '54', '290.7', '8.4', '5.4', '83', '1912']\n",
            "['Peaches (can)', 'No. 2 1/2', '16.8', '3.7', '20', '0.4', '10', '21.5', '0.5', '1.0', '31', '196']\n",
            "['Pears (can)', 'No. 2 1/2', '20.4', '3.0', '8', '0.3', '8', '0.8', '0.8', '0.8', '5', '81']\n",
            "['Pineapple (can)', 'No. 2 1/2', '21.3', '2.4', '16', '0.4', '8', '2.0', '2.8', '0.8', '7', '399']\n",
            "['Asparagus (can)', 'No. 2', '27.7', '0.4', '33', '0.3', '12', '16.3', '1.4', '2.1', '17', '272']\n",
            "['Green Beans (can)', 'No. 2', '10.0', '1.0', '54', '2.0', '65', '53.9', '1.6', '4.3', '32', '431']\n",
            "['Pork and Beans (can)', '16 oz.', '7.1', '7.5', '364', '4.0', '134', '3.5', '8.3', '7.7', '56', '0']\n",
            "['Corn (can)', 'No. 2', '10.4', '5.2', '136', '0.2', '16', '12.0', '1.6', '2.7', '42', '218']\n",
            "['Peas (can)', 'No. 2', '13.8', '2.3', '136', '0.6', '45', '34.9', '4.9', '2.5', '37', '370']\n",
            "['Tomatoes (can)', 'No. 2', '8.6', '1.3', '63', '0.7', '38', '53.2', '3.4', '2.5', '36', '1253']\n",
            "['Tomato Soup (can)', '10 1/2 oz.', '7.6', '1.6', '71', '0.6', '43', '57.9', '3.5', '2.4', '67', '862']\n",
            "['Peaches, Dried', '1 lb.', '15.7', '8.5', '87', '1.7', '173', '86.8', '1.2', '4.3', '55', '57']\n",
            "['Prunes, Dried', '1 lb.', '9.0', '12.8', '99', '2.5', '154', '85.7', '3.9', '4.3', '65', '257']\n",
            "['Raisins, Dried', '15 oz.', '9.4', '13.5', '104', '2.5', '136', '4.5', '6.3', '1.4', '24', '136']\n",
            "['Peas, Dried', '1 lb.', '7.9', '20.0', '1367', '4.2', '345', '2.9', '28.7', '18.4', '162', '0']\n",
            "['Lima Beans, Dried', '1 lb.', '8.9', '17.4', '1055', '3.7', '459', '5.1', '26.9', '38.2', '93', '0']\n",
            "['Navy Beans, Dried', '1 lb.', '5.9', '26.9', '1691', '11.4', '792', '0.0', '38.4', '24.6', '217', '0']\n",
            "['Coffee', '1 lb.', '22.4', '0.0', '0', '0.0', '0', '0.0', '4.0', '5.1', '50', '0']\n",
            "['Tea', '1/4 lb.', '17.4', '0.0', '0', '0.0', '0', '0.0', '0.0', '2.3', '42', '0']\n",
            "['Cocoa', '8 oz.', '8.6', '8.7', '237', '3.0', '72', '0.0', '2.0', '11.9', '40', '0']\n",
            "['Chocolate', '8 oz.', '16.2', '8.0', '77', '1.3', '39', '0.0', '0.9', '3.4', '14', '0']\n",
            "['Sugar', '10 lb.', '51.7', '34.9', '0', '0.0', '0', '0.0', '0.0', '0.0', '0', '0']\n",
            "['Corn Syrup', '24 oz.', '13.7', '14.7', '0', '0.5', '74', '0.0', '0.0', '0.0', '5', '0']\n",
            "['Molasses', '18 oz.', '13.6', '9.0', '0', '10.3', '244', '0.0', '1.9', '7.5', '146', '0']\n",
            "['Strawberry Preserves', '1 lb.', '20.5', '6.4', '11', '0.4', '7', '0.2', '0.2', '0.4', '3', '0']\n"
          ]
        }
      ]
    },
    {
      "cell_type": "markdown",
      "source": [
        "Transferindo conteúdo dos arquivos para listas:"
      ],
      "metadata": {
        "id": "6xswZX9Eo7uA"
      }
    },
    {
      "cell_type": "code",
      "source": [
        "nutrientes = []\n",
        "with open(nutrientes_file,'r') as data:\n",
        "   for line in csv.reader(data):\n",
        "            nutrientes.append(line)\n",
        "\n",
        "dados = []\n",
        "with open(data_file,'r') as data:\n",
        "   for line in csv.reader(data):\n",
        "            dados.append(line)"
      ],
      "metadata": {
        "id": "ceRV3YPBnb7Y"
      },
      "execution_count": 4,
      "outputs": []
    },
    {
      "cell_type": "markdown",
      "source": [
        "Separando os dados por colunas:\n",
        "\n"
      ],
      "metadata": {
        "id": "rqDUksSd00tf"
      }
    },
    {
      "cell_type": "code",
      "source": [
        "columns = [[] for item in dados[0]]\n",
        "\n",
        "for i, list in enumerate(columns):\n",
        "    for line in dados:\n",
        "      list.append(line[i])\n",
        "    columns[i] = list"
      ],
      "metadata": {
        "id": "8uoC3g4gp0z_"
      },
      "execution_count": 5,
      "outputs": []
    },
    {
      "cell_type": "markdown",
      "source": [
        "Adicionando Variáveis no resolvedor:\n"
      ],
      "metadata": {
        "id": "X-8Xm3D833Ni"
      }
    },
    {
      "cell_type": "code",
      "source": [
        "print('Número de Restrições =', solver.NumConstraints())\n",
        "variables = []\n",
        "for name in columns[0]:\n",
        "  if name != 'ingrediente':\n",
        "    variables.append(solver.NumVar(0,solver.infinity(), name))\n",
        "print('Número de Restrições =', solver.NumConstraints())"
      ],
      "metadata": {
        "id": "9iRsTMTm37OB",
        "colab": {
          "base_uri": "https://localhost:8080/"
        },
        "outputId": "82e886c9-944d-444a-f273-150fe9467aa3"
      },
      "execution_count": 6,
      "outputs": [
        {
          "output_type": "stream",
          "name": "stdout",
          "text": [
            "Número de Restrições = 0\n",
            "Número de Restrições = 0\n"
          ]
        }
      ]
    },
    {
      "cell_type": "markdown",
      "source": [
        "Adicionando Restrições:"
      ],
      "metadata": {
        "id": "aVBoOOPm6j1V"
      }
    },
    {
      "cell_type": "code",
      "source": [
        "for e, line in enumerate(nutrientes):\n",
        "  if e > 0:\n",
        "    c_name = f'restricao_({line[0]})'\n",
        "    minimum = float(line[1])\n",
        "    c = solver.Constraint(minimum,solver.infinity(),c_name)\n",
        "    for coluna in columns:\n",
        "      if coluna[0] == line[0]:\n",
        "        for var, coef in zip(variables, coluna[1:]):\n",
        "          c.SetCoefficient(var, float(coef))\n",
        "print('Número de Restrições =', solver.NumConstraints())"
      ],
      "metadata": {
        "colab": {
          "base_uri": "https://localhost:8080/"
        },
        "id": "UGbNnAP26nfj",
        "outputId": "8bc03a6b-83f4-4065-d871-40fad72091fa"
      },
      "execution_count": 7,
      "outputs": [
        {
          "output_type": "stream",
          "name": "stdout",
          "text": [
            "Número de Restrições = 9\n"
          ]
        }
      ]
    },
    {
      "cell_type": "markdown",
      "source": [
        "Criando o objetivo:"
      ],
      "metadata": {
        "id": "JPXxwIAQN1pf"
      }
    },
    {
      "cell_type": "code",
      "source": [
        "objective = solver.Objective()\n",
        "obj_price = columns[2][1:]\n",
        "\n",
        "for var, obj in zip(variables, obj_price):\n",
        "  objective.SetCoefficient(var, float(obj))\n",
        "objective.SetMinimization()"
      ],
      "metadata": {
        "id": "YNaC7vgcN5Mr"
      },
      "execution_count": 8,
      "outputs": []
    },
    {
      "cell_type": "markdown",
      "source": [
        "Exportando como modelo:"
      ],
      "metadata": {
        "id": "OpIWn1uMYYrP"
      }
    },
    {
      "cell_type": "code",
      "source": [
        "export = solver.ExportModelAsLpFormat(False)\n",
        "print(export)"
      ],
      "metadata": {
        "colab": {
          "base_uri": "https://localhost:8080/"
        },
        "id": "WniYIz_nYJUf",
        "outputId": "a131b6f6-45ff-4e9c-f183-d2b40160b458"
      },
      "execution_count": 12,
      "outputs": [
        {
          "output_type": "stream",
          "name": "stdout",
          "text": [
            "\\ Generated by MPModelProtoExporter\n",
            "\\   Name             : \n",
            "\\   Format           : Free\n",
            "\\   Constraints      : 9\n",
            "\\   Variables        : 77\n",
            "\\     Binary         : 0\n",
            "\\     Integer        : 0\n",
            "\\     Continuous     : 77\n",
            "Minimize\n",
            " Obj: +36 Wheat_Flour_(Enriched) +14.1 Macaroni +24.2 Wheat_Cereal_(Enriched) +7.1 Corn_Flakes +4.6 Corn_Meal +8.5 Hominy_Grits +7.5 Rice +7.1 Rolled_Oats +7.9 White_Bread_(Enriched) +9.1 Whole_Wheat_Bread +9.1 Rye_Bread +24.8 Pound_Cake +15.1 Soda_Crackers +11 Milk +6.7 Evaporated_Milk_(can) +30.8 Butter +16.1 Oleomargarine +32.6 Eggs +24.2 Cheese_(Cheddar) +14.1 Cream +17.9 Peanut_Butter +16.7 Mayonnaise +20.3 Crisco +9.8 Lard +39.6 Sirloin_Steak +36.4 Round_Steak +29.2 Rib_Roast +22.6 Chuck_Roast +14.6 Plate +26.8 Liver_(Beef) +27.6 Leg_of_Lamb +36.6 Lamb_Chops_(Rib) +30.7 Pork_Chops +24.2 Pork_Loin_Roast +25.6 Bacon +27.4 Ham,_smoked +16 Salt_Pork +30.3 Roasting_Chicken +42.3 Veal_Cutlets +13 Salmon,_Pink_(can) +4.4 Apples +6.1 Bananas +26 Lemons +30.9 Oranges +7.1 Green_Beans +3.7 Cabbage +4.7 Carrots +7.3 Celery +8.2 Lettuce +3.6 Onions +34 Potatoes +8.1 Spinach +5.1 Sweet_Potatoes +16.8 Peaches_(can) +20.4 Pears_(can) +21.3 Pineapple_(can) +27.7 Asparagus_(can) +10 Green_Beans_(can) +7.1 Pork_and_Beans_(can) +10.4 Corn_(can) +13.8 Peas_(can) +8.6 Tomatoes_(can) +7.6 Tomato_Soup_(can) +15.7 Peaches,_Dried +9 Prunes,_Dried +9.4 Raisins,_Dried +7.9 Peas,_Dried +8.9 Lima_Beans,_Dried +5.9 Navy_Beans,_Dried +22.4 Coffee +17.4 Tea +8.6 Cocoa +16.2 Chocolate +51.7 Sugar +13.7 Corn_Syrup +13.6 Molasses +20.5 Strawberry_Preserves \n",
            "Subject to\n",
            " restricao_(Calories_(kcal)): +44.7 Wheat_Flour_(Enriched) +11.6 Macaroni +11.8 Wheat_Cereal_(Enriched) +11.4 Corn_Flakes +36 Corn_Meal +28.6 Hominy_Grits +21.2 Rice +25.3 Rolled_Oats +15 White_Bread_(Enriched) +12.2 Whole_Wheat_Bread +12.4 Rye_Bread +8 Pound_Cake +12.5 Soda_Crackers +6.1 Milk +8.4 Evaporated_Milk_(can) +10.8 Butter +20.6 Oleomargarine +2.9 Eggs +7.4 Cheese_(Cheddar) +3.5 Cream +15.7 Peanut_Butter +8.6 Mayonnaise +20.1 Crisco +41.7 Lard +2.9 Sirloin_Steak +2.2 Round_Steak +3.4 Rib_Roast +3.6 Chuck_Roast +8.5 Plate +2.2 Liver_(Beef) +3.1 Leg_of_Lamb +3.3 Lamb_Chops_(Rib) +3.5 Pork_Chops +4.4 Pork_Loin_Roast +10.4 Bacon +6.7 Ham,_smoked +18.8 Salt_Pork +1.8 Roasting_Chicken +1.7 Veal_Cutlets +5.8 Salmon,_Pink_(can) +5.8 Apples +4.9 Bananas +1 Lemons +2.2 Oranges +2.4 Green_Beans +2.6 Cabbage +2.7 Carrots +0.9 Celery +0.4 Lettuce +5.8 Onions +14.3 Potatoes +1.1 Spinach +9.6 Sweet_Potatoes +3.7 Peaches_(can) +3 Pears_(can) +2.4 Pineapple_(can) +0.4 Asparagus_(can) +1 Green_Beans_(can) +7.5 Pork_and_Beans_(can) +5.2 Corn_(can) +2.3 Peas_(can) +1.3 Tomatoes_(can) +1.6 Tomato_Soup_(can) +8.5 Peaches,_Dried +12.8 Prunes,_Dried +13.5 Raisins,_Dried +20 Peas,_Dried +17.4 Lima_Beans,_Dried +26.9 Navy_Beans,_Dried +8.7 Cocoa +8 Chocolate +34.9 Sugar +14.7 Corn_Syrup +9 Molasses +6.4 Strawberry_Preserves  >= 3\n",
            " restricao_(Protein_(g)): +1411 Wheat_Flour_(Enriched) +418 Macaroni +377 Wheat_Cereal_(Enriched) +252 Corn_Flakes +897 Corn_Meal +680 Hominy_Grits +460 Rice +907 Rolled_Oats +488 White_Bread_(Enriched) +484 Whole_Wheat_Bread +439 Rye_Bread +130 Pound_Cake +288 Soda_Crackers +310 Milk +422 Evaporated_Milk_(can) +9 Butter +17 Oleomargarine +238 Eggs +448 Cheese_(Cheddar) +49 Cream +661 Peanut_Butter +18 Mayonnaise +166 Sirloin_Steak +214 Round_Steak +213 Rib_Roast +309 Chuck_Roast +404 Plate +333 Liver_(Beef) +245 Leg_of_Lamb +140 Lamb_Chops_(Rib) +196 Pork_Chops +249 Pork_Loin_Roast +152 Bacon +212 Ham,_smoked +164 Salt_Pork +184 Roasting_Chicken +156 Veal_Cutlets +705 Salmon,_Pink_(can) +27 Apples +60 Bananas +21 Lemons +40 Oranges +138 Green_Beans +125 Cabbage +73 Carrots +51 Celery +27 Lettuce +166 Onions +336 Potatoes +106 Spinach +138 Sweet_Potatoes +20 Peaches_(can) +8 Pears_(can) +16 Pineapple_(can) +33 Asparagus_(can) +54 Green_Beans_(can) +364 Pork_and_Beans_(can) +136 Corn_(can) +136 Peas_(can) +63 Tomatoes_(can) +71 Tomato_Soup_(can) +87 Peaches,_Dried +99 Prunes,_Dried +104 Raisins,_Dried +1367 Peas,_Dried +1055 Lima_Beans,_Dried +1691 Navy_Beans,_Dried +237 Cocoa +77 Chocolate +11 Strawberry_Preserves  >= 70\n",
            " restricao_(Calcium_(g)): +2 Wheat_Flour_(Enriched) +0.7 Macaroni +14.4 Wheat_Cereal_(Enriched) +0.1 Corn_Flakes +1.7 Corn_Meal +0.8 Hominy_Grits +0.6 Rice +5.1 Rolled_Oats +2.5 White_Bread_(Enriched) +2.7 Whole_Wheat_Bread +1.1 Rye_Bread +0.4 Pound_Cake +0.5 Soda_Crackers +10.5 Milk +15.1 Evaporated_Milk_(can) +0.2 Butter +0.6 Oleomargarine +1 Eggs +16.4 Cheese_(Cheddar) +1.7 Cream +1 Peanut_Butter +0.2 Mayonnaise +0.1 Sirloin_Steak +0.1 Round_Steak +0.1 Rib_Roast +0.2 Chuck_Roast +0.2 Plate +0.2 Liver_(Beef) +0.1 Leg_of_Lamb +0.1 Lamb_Chops_(Rib) +0.2 Pork_Chops +0.3 Pork_Loin_Roast +0.2 Bacon +0.2 Ham,_smoked +0.1 Salt_Pork +0.1 Roasting_Chicken +0.1 Veal_Cutlets +6.8 Salmon,_Pink_(can) +0.5 Apples +0.4 Bananas +0.5 Lemons +1.1 Oranges +3.7 Green_Beans +4 Cabbage +2.8 Carrots +3 Celery +1.1 Lettuce +3.8 Onions +1.8 Potatoes +2.7 Sweet_Potatoes +0.4 Peaches_(can) +0.3 Pears_(can) +0.4 Pineapple_(can) +0.3 Asparagus_(can) +2 Green_Beans_(can) +4 Pork_and_Beans_(can) +0.2 Corn_(can) +0.6 Peas_(can) +0.7 Tomatoes_(can) +0.6 Tomato_Soup_(can) +1.7 Peaches,_Dried +2.5 Prunes,_Dried +2.5 Raisins,_Dried +4.2 Peas,_Dried +3.7 Lima_Beans,_Dried +11.4 Navy_Beans,_Dried +3 Cocoa +1.3 Chocolate +0.5 Corn_Syrup +10.3 Molasses +0.4 Strawberry_Preserves  >= 0.8\n",
            " restricao_(Iron_(mg)): +365 Wheat_Flour_(Enriched) +54 Macaroni +175 Wheat_Cereal_(Enriched) +56 Corn_Flakes +99 Corn_Meal +80 Hominy_Grits +41 Rice +341 Rolled_Oats +115 White_Bread_(Enriched) +125 Whole_Wheat_Bread +82 Rye_Bread +31 Pound_Cake +50 Soda_Crackers +18 Milk +9 Evaporated_Milk_(can) +3 Butter +6 Oleomargarine +52 Eggs +19 Cheese_(Cheddar) +3 Cream +48 Peanut_Butter +8 Mayonnaise +34 Sirloin_Steak +32 Round_Steak +33 Rib_Roast +46 Chuck_Roast +62 Plate +139 Liver_(Beef) +20 Leg_of_Lamb +15 Lamb_Chops_(Rib) +30 Pork_Chops +37 Pork_Loin_Roast +23 Bacon +31 Ham,_smoked +26 Salt_Pork +30 Roasting_Chicken +24 Veal_Cutlets +45 Salmon,_Pink_(can) +36 Apples +30 Bananas +14 Lemons +18 Oranges +80 Green_Beans +36 Cabbage +43 Carrots +23 Celery +22 Lettuce +59 Onions +118 Potatoes +138 Spinach +54 Sweet_Potatoes +10 Peaches_(can) +8 Pears_(can) +8 Pineapple_(can) +12 Asparagus_(can) +65 Green_Beans_(can) +134 Pork_and_Beans_(can) +16 Corn_(can) +45 Peas_(can) +38 Tomatoes_(can) +43 Tomato_Soup_(can) +173 Peaches,_Dried +154 Prunes,_Dried +136 Raisins,_Dried +345 Peas,_Dried +459 Lima_Beans,_Dried +792 Navy_Beans,_Dried +72 Cocoa +39 Chocolate +74 Corn_Syrup +244 Molasses +7 Strawberry_Preserves  >= 12\n",
            " restricao_(Vitamin_A_(KIU)): +30.9 Corn_Meal +18.9 Pound_Cake +16.8 Milk +26 Evaporated_Milk_(can) +44.2 Butter +55.8 Oleomargarine +18.6 Eggs +28.1 Cheese_(Cheddar) +16.9 Cream +2.7 Mayonnaise +0.2 Lard +0.2 Sirloin_Steak +0.4 Round_Steak +0.4 Chuck_Roast +169.2 Liver_(Beef) +0.1 Roasting_Chicken +3.5 Salmon,_Pink_(can) +7.3 Apples +17.4 Bananas +11.1 Oranges +69 Green_Beans +7.2 Cabbage +188.5 Carrots +0.9 Celery +112.4 Lettuce +16.6 Onions +6.7 Potatoes +918.4 Spinach +290.7 Sweet_Potatoes +21.5 Peaches_(can) +0.8 Pears_(can) +2 Pineapple_(can) +16.3 Asparagus_(can) +53.9 Green_Beans_(can) +3.5 Pork_and_Beans_(can) +12 Corn_(can) +34.9 Peas_(can) +53.2 Tomatoes_(can) +57.9 Tomato_Soup_(can) +86.8 Peaches,_Dried +85.7 Prunes,_Dried +4.5 Raisins,_Dried +2.9 Peas,_Dried +5.1 Lima_Beans,_Dried +0.2 Strawberry_Preserves  >= 5\n",
            " restricao_(Vitamin_B1_(mg)): +55.4 Wheat_Flour_(Enriched) +3.2 Macaroni +14.4 Wheat_Cereal_(Enriched) +13.5 Corn_Flakes +17.4 Corn_Meal +10.6 Hominy_Grits +2 Rice +37.1 Rolled_Oats +13.8 White_Bread_(Enriched) +13.9 Whole_Wheat_Bread +9.9 Rye_Bread +2.8 Pound_Cake +4 Milk +3 Evaporated_Milk_(can) +0.2 Oleomargarine +2.8 Eggs +0.8 Cheese_(Cheddar) +0.6 Cream +9.6 Peanut_Butter +0.4 Mayonnaise +2.1 Sirloin_Steak +2.5 Round_Steak +1 Chuck_Roast +0.9 Plate +6.4 Liver_(Beef) +2.8 Leg_of_Lamb +1.7 Lamb_Chops_(Rib) +17.4 Pork_Chops +18.2 Pork_Loin_Roast +1.8 Bacon +9.9 Ham,_smoked +1.4 Salt_Pork +0.9 Roasting_Chicken +1.4 Veal_Cutlets +1 Salmon,_Pink_(can) +3.6 Apples +2.5 Bananas +0.5 Lemons +3.6 Oranges +4.3 Green_Beans +9 Cabbage +6.1 Carrots +1.4 Celery +1.8 Lettuce +4.7 Onions +29.4 Potatoes +5.7 Spinach +8.4 Sweet_Potatoes +0.5 Peaches_(can) +0.8 Pears_(can) +2.8 Pineapple_(can) +1.4 Asparagus_(can) +1.6 Green_Beans_(can) +8.3 Pork_and_Beans_(can) +1.6 Corn_(can) +4.9 Peas_(can) +3.4 Tomatoes_(can) +3.5 Tomato_Soup_(can) +1.2 Peaches,_Dried +3.9 Prunes,_Dried +6.3 Raisins,_Dried +28.7 Peas,_Dried +26.9 Lima_Beans,_Dried +38.4 Navy_Beans,_Dried +4 Coffee +2 Cocoa +0.9 Chocolate +1.9 Molasses +0.2 Strawberry_Preserves  >= 1.8\n",
            " restricao_(Vitamin_B2_(mg)): +33.3 Wheat_Flour_(Enriched) +1.9 Macaroni +8.8 Wheat_Cereal_(Enriched) +2.3 Corn_Flakes +7.9 Corn_Meal +1.6 Hominy_Grits +4.8 Rice +8.9 Rolled_Oats +8.5 White_Bread_(Enriched) +6.4 Whole_Wheat_Bread +3 Rye_Bread +3 Pound_Cake +16 Milk +23.5 Evaporated_Milk_(can) +0.2 Butter +6.5 Eggs +10.3 Cheese_(Cheddar) +2.5 Cream +8.1 Peanut_Butter +0.5 Mayonnaise +0.5 Lard +2.9 Sirloin_Steak +2.4 Round_Steak +2 Rib_Roast +4 Chuck_Roast +50.8 Liver_(Beef) +3.9 Leg_of_Lamb +2.7 Lamb_Chops_(Rib) +2.7 Pork_Chops +3.6 Pork_Loin_Roast +1.8 Bacon +3.3 Ham,_smoked +1.8 Salt_Pork +1.8 Roasting_Chicken +2.4 Veal_Cutlets +4.9 Salmon,_Pink_(can) +2.7 Apples +3.5 Bananas +1.3 Oranges +5.8 Green_Beans +4.5 Cabbage +4.3 Carrots +1.4 Celery +3.4 Lettuce +5.9 Onions +7.1 Potatoes +13.8 Spinach +5.4 Sweet_Potatoes +1 Peaches_(can) +0.8 Pears_(can) +0.8 Pineapple_(can) +2.1 Asparagus_(can) +4.3 Green_Beans_(can) +7.7 Pork_and_Beans_(can) +2.7 Corn_(can) +2.5 Peas_(can) +2.5 Tomatoes_(can) +2.4 Tomato_Soup_(can) +4.3 Peaches,_Dried +4.3 Prunes,_Dried +1.4 Raisins,_Dried +18.4 Peas,_Dried +38.2 Lima_Beans,_Dried +24.6 Navy_Beans,_Dried +5.1 Coffee +2.3 Tea +11.9 Cocoa +3.4 Chocolate +7.5 Molasses +0.4 Strawberry_Preserves  >= 2.7\n",
            " restricao_(Niacin_(mg)): +441 Wheat_Flour_(Enriched) +68 Macaroni +114 Wheat_Cereal_(Enriched) +68 Corn_Flakes +106 Corn_Meal +110 Hominy_Grits +60 Rice +64 Rolled_Oats +126 White_Bread_(Enriched) +160 Whole_Wheat_Bread +66 Rye_Bread +17 Pound_Cake +7 Milk +11 Evaporated_Milk_(can) +2 Butter +1 Eggs +4 Cheese_(Cheddar) +471 Peanut_Butter +5 Lard +69 Sirloin_Steak +87 Round_Steak +120 Chuck_Roast +316 Liver_(Beef) +86 Leg_of_Lamb +54 Lamb_Chops_(Rib) +60 Pork_Chops +79 Pork_Loin_Roast +71 Bacon +50 Ham,_smoked +68 Roasting_Chicken +57 Veal_Cutlets +209 Salmon,_Pink_(can) +5 Apples +28 Bananas +4 Lemons +10 Oranges +37 Green_Beans +26 Cabbage +89 Carrots +9 Celery +11 Lettuce +21 Onions +198 Potatoes +33 Spinach +83 Sweet_Potatoes +31 Peaches_(can) +5 Pears_(can) +7 Pineapple_(can) +17 Asparagus_(can) +32 Green_Beans_(can) +56 Pork_and_Beans_(can) +42 Corn_(can) +37 Peas_(can) +36 Tomatoes_(can) +67 Tomato_Soup_(can) +55 Peaches,_Dried +65 Prunes,_Dried +24 Raisins,_Dried +162 Peas,_Dried +93 Lima_Beans,_Dried +217 Navy_Beans,_Dried +50 Coffee +42 Tea +40 Cocoa +14 Chocolate +5 Corn_Syrup +146 Molasses +3 Strawberry_Preserves  >= 18\n",
            " restricao_(Vitamin_C_(mg)): +177 Milk +60 Evaporated_Milk_(can) +17 Cream +525 Liver_(Beef) +46 Roasting_Chicken +544 Apples +498 Bananas +952 Lemons +1998 Oranges +862 Green_Beans +5369 Cabbage +608 Carrots +313 Celery +449 Lettuce +1184 Onions +2522 Potatoes +2755 Spinach +1912 Sweet_Potatoes +196 Peaches_(can) +81 Pears_(can) +399 Pineapple_(can) +272 Asparagus_(can) +431 Green_Beans_(can) +218 Corn_(can) +370 Peas_(can) +1253 Tomatoes_(can) +862 Tomato_Soup_(can) +57 Peaches,_Dried +257 Prunes,_Dried +136 Raisins,_Dried  >= 75\n",
            "Bounds\n",
            " 0 <= Wheat_Flour_(Enriched)\n",
            " 0 <= Macaroni\n",
            " 0 <= Wheat_Cereal_(Enriched)\n",
            " 0 <= Corn_Flakes\n",
            " 0 <= Corn_Meal\n",
            " 0 <= Hominy_Grits\n",
            " 0 <= Rice\n",
            " 0 <= Rolled_Oats\n",
            " 0 <= White_Bread_(Enriched)\n",
            " 0 <= Whole_Wheat_Bread\n",
            " 0 <= Rye_Bread\n",
            " 0 <= Pound_Cake\n",
            " 0 <= Soda_Crackers\n",
            " 0 <= Milk\n",
            " 0 <= Evaporated_Milk_(can)\n",
            " 0 <= Butter\n",
            " 0 <= Oleomargarine\n",
            " 0 <= Eggs\n",
            " 0 <= Cheese_(Cheddar)\n",
            " 0 <= Cream\n",
            " 0 <= Peanut_Butter\n",
            " 0 <= Mayonnaise\n",
            " 0 <= Crisco\n",
            " 0 <= Lard\n",
            " 0 <= Sirloin_Steak\n",
            " 0 <= Round_Steak\n",
            " 0 <= Rib_Roast\n",
            " 0 <= Chuck_Roast\n",
            " 0 <= Plate\n",
            " 0 <= Liver_(Beef)\n",
            " 0 <= Leg_of_Lamb\n",
            " 0 <= Lamb_Chops_(Rib)\n",
            " 0 <= Pork_Chops\n",
            " 0 <= Pork_Loin_Roast\n",
            " 0 <= Bacon\n",
            " 0 <= Ham,_smoked\n",
            " 0 <= Salt_Pork\n",
            " 0 <= Roasting_Chicken\n",
            " 0 <= Veal_Cutlets\n",
            " 0 <= Salmon,_Pink_(can)\n",
            " 0 <= Apples\n",
            " 0 <= Bananas\n",
            " 0 <= Lemons\n",
            " 0 <= Oranges\n",
            " 0 <= Green_Beans\n",
            " 0 <= Cabbage\n",
            " 0 <= Carrots\n",
            " 0 <= Celery\n",
            " 0 <= Lettuce\n",
            " 0 <= Onions\n",
            " 0 <= Potatoes\n",
            " 0 <= Spinach\n",
            " 0 <= Sweet_Potatoes\n",
            " 0 <= Peaches_(can)\n",
            " 0 <= Pears_(can)\n",
            " 0 <= Pineapple_(can)\n",
            " 0 <= Asparagus_(can)\n",
            " 0 <= Green_Beans_(can)\n",
            " 0 <= Pork_and_Beans_(can)\n",
            " 0 <= Corn_(can)\n",
            " 0 <= Peas_(can)\n",
            " 0 <= Tomatoes_(can)\n",
            " 0 <= Tomato_Soup_(can)\n",
            " 0 <= Peaches,_Dried\n",
            " 0 <= Prunes,_Dried\n",
            " 0 <= Raisins,_Dried\n",
            " 0 <= Peas,_Dried\n",
            " 0 <= Lima_Beans,_Dried\n",
            " 0 <= Navy_Beans,_Dried\n",
            " 0 <= Coffee\n",
            " 0 <= Tea\n",
            " 0 <= Cocoa\n",
            " 0 <= Chocolate\n",
            " 0 <= Sugar\n",
            " 0 <= Corn_Syrup\n",
            " 0 <= Molasses\n",
            " 0 <= Strawberry_Preserves\n",
            "End\n",
            "\n"
          ]
        }
      ]
    },
    {
      "cell_type": "markdown",
      "source": [
        "Resolvendo o Sistema:"
      ],
      "metadata": {
        "id": "sII1kOeKQQxq"
      }
    },
    {
      "cell_type": "code",
      "source": [
        "status = solver.Solve()\n",
        "\n",
        "if status == pywraplp.Solver.OPTIMAL:\n",
        "  print('solução:')\n",
        "  print('Valor do Objetivo: ', solver.Objective().Value(),'\\n')\n",
        "  for variavel in variables:\n",
        "    print(f'{variavel} = ', variavel.solution_value())\n",
        "else:\n",
        "  print('o problema não possui solução ótima')"
      ],
      "metadata": {
        "colab": {
          "base_uri": "https://localhost:8080/"
        },
        "id": "umCcnI8TUE6T",
        "outputId": "d73ad0c3-c199-47bd-95a9-e911664b374a"
      },
      "execution_count": 14,
      "outputs": [
        {
          "output_type": "stream",
          "name": "stdout",
          "text": [
            "solução:\n",
            "Valor do Objetivo:  0.7164607604834595 \n",
            "\n",
            "Wheat Flour (Enriched) =  0.0\n",
            "Macaroni =  0.0\n",
            "Wheat Cereal (Enriched) =  0.0\n",
            "Corn Flakes =  0.0\n",
            "Corn Meal =  0.005344246335991804\n",
            "Hominy Grits =  0.0\n",
            "Rice =  0.0\n",
            "Rolled Oats =  0.0\n",
            "White Bread (Enriched) =  0.0\n",
            "Whole Wheat Bread =  0.0\n",
            "Rye Bread =  0.0\n",
            "Pound Cake =  0.0\n",
            "Soda Crackers =  0.0\n",
            "Milk =  0.0\n",
            "Evaporated Milk (can) =  0.0\n",
            "Butter =  0.0\n",
            "Oleomargarine =  0.0\n",
            "Eggs =  0.0\n",
            "Cheese (Cheddar) =  0.0\n",
            "Cream =  0.0\n",
            "Peanut Butter =  0.0\n",
            "Mayonnaise =  0.0\n",
            "Crisco =  0.0\n",
            "Lard =  0.0\n",
            "Sirloin Steak =  0.0\n",
            "Round Steak =  0.0\n",
            "Rib Roast =  0.0\n",
            "Chuck Roast =  0.0\n",
            "Plate =  0.0\n",
            "Liver (Beef) =  0.0\n",
            "Leg of Lamb =  0.0\n",
            "Lamb Chops (Rib) =  0.0\n",
            "Pork Chops =  0.0\n",
            "Pork Loin Roast =  0.0\n",
            "Bacon =  0.0\n",
            "Ham, smoked =  0.0\n",
            "Salt Pork =  0.0\n",
            "Roasting Chicken =  0.0\n",
            "Veal Cutlets =  0.0\n",
            "Salmon, Pink (can) =  0.0\n",
            "Apples =  0.0\n",
            "Bananas =  0.0\n",
            "Lemons =  0.0\n",
            "Oranges =  0.0\n",
            "Green Beans =  0.0\n",
            "Cabbage =  0.01131324508827593\n",
            "Carrots =  0.0\n",
            "Celery =  0.0\n",
            "Lettuce =  0.0\n",
            "Onions =  0.0\n",
            "Potatoes =  0.0\n",
            "Spinach =  0.005175748501287311\n",
            "Sweet Potatoes =  0.0\n",
            "Peaches (can) =  0.0\n",
            "Pears (can) =  0.0\n",
            "Pineapple (can) =  0.0\n",
            "Asparagus (can) =  0.0\n",
            "Green Beans (can) =  0.0\n",
            "Pork and Beans (can) =  0.0\n",
            "Corn (can) =  0.0\n",
            "Peas (can) =  0.0\n",
            "Tomatoes (can) =  0.0\n",
            "Tomato Soup (can) =  0.0\n",
            "Peaches, Dried =  0.0\n",
            "Prunes, Dried =  0.0\n",
            "Raisins, Dried =  0.0\n",
            "Peas, Dried =  0.0\n",
            "Lima Beans, Dried =  0.0\n",
            "Navy Beans, Dried =  0.10306689112726254\n",
            "Coffee =  0.0\n",
            "Tea =  0.0\n",
            "Cocoa =  0.0\n",
            "Chocolate =  0.0\n",
            "Sugar =  0.0\n",
            "Corn Syrup =  0.0\n",
            "Molasses =  0.0\n",
            "Strawberry Preserves =  0.0\n"
          ]
        }
      ]
    }
  ]
}